{
 "cells": [
  {
   "cell_type": "code",
   "execution_count": 55,
   "id": "fc69bfba",
   "metadata": {
    "ExecuteTime": {
     "end_time": "2023-11-28T14:42:29.604848100Z",
     "start_time": "2023-11-28T14:42:29.573589800Z"
    }
   },
   "outputs": [],
   "source": [
    "import numpy as np\n",
    "import cv2\n",
    "import pytesseract\n",
    "import os\n",
    "\n",
    "if os.name == \"nt\":\n",
    "    pytesseract.pytesseract.tesseract_cmd = r\"C:\\Program Files\\Tesseract-OCR\\tesseract.exe\"\n"
   ]
  },
  {
   "cell_type": "code",
   "execution_count": 56,
   "id": "b8fafe23",
   "metadata": {
    "ExecuteTime": {
     "end_time": "2023-11-28T14:42:31.919661700Z",
     "start_time": "2023-11-28T14:42:31.685275500Z"
    }
   },
   "outputs": [],
   "source": [
    "image = cv2.imread(\"data/index_02.jpg\")"
   ]
  },
  {
   "cell_type": "code",
   "execution_count": 57,
   "id": "4de20f28-1c9a-436a-932a-3623dd8fbf94",
   "metadata": {
    "tags": [],
    "ExecuteTime": {
     "end_time": "2023-11-28T14:42:32.466939Z",
     "start_time": "2023-11-28T14:42:32.435676400Z"
    }
   },
   "outputs": [],
   "source": [
    "gray = cv2.cvtColor(image, cv2.COLOR_BGR2GRAY)"
   ]
  },
  {
   "cell_type": "code",
   "execution_count": 58,
   "id": "dbde7b6d-2cf9-40c0-8b69-84e55b41ab74",
   "metadata": {
    "ExecuteTime": {
     "end_time": "2023-11-28T14:42:33.027029300Z",
     "start_time": "2023-11-28T14:42:32.964525400Z"
    }
   },
   "outputs": [
    {
     "data": {
      "text/plain": "True"
     },
     "execution_count": 58,
     "metadata": {},
     "output_type": "execute_result"
    }
   ],
   "source": [
    "cv2.imwrite(\"temp/gray.jpg\", gray)\n"
   ]
  },
  {
   "cell_type": "code",
   "execution_count": 59,
   "outputs": [
    {
     "data": {
      "text/plain": "True"
     },
     "execution_count": 59,
     "metadata": {},
     "output_type": "execute_result"
    }
   ],
   "source": [
    "blur = cv2.GaussianBlur(gray, (7, 7), 0)\n",
    "cv2.imwrite(\"temp/blur.jpg\", blur)"
   ],
   "metadata": {
    "collapsed": false,
    "ExecuteTime": {
     "end_time": "2023-11-28T14:42:33.534423700Z",
     "start_time": "2023-11-28T14:42:33.451171500Z"
    }
   },
   "id": "f066617686391310"
  },
  {
   "cell_type": "code",
   "execution_count": 60,
   "outputs": [],
   "source": [
    "thresh = cv2.threshold(blur, 0, 255, cv2.THRESH_BINARY_INV + cv2.THRESH_OTSU)[1]"
   ],
   "metadata": {
    "collapsed": false,
    "ExecuteTime": {
     "end_time": "2023-11-28T14:42:33.893798900Z",
     "start_time": "2023-11-28T14:42:33.862553Z"
    }
   },
   "id": "930e99f57cc47ab3"
  },
  {
   "cell_type": "code",
   "execution_count": 61,
   "outputs": [
    {
     "data": {
      "text/plain": "True"
     },
     "execution_count": 61,
     "metadata": {},
     "output_type": "execute_result"
    }
   ],
   "source": [
    "cv2.imwrite(\"temp/thresh.jpg\", thresh)"
   ],
   "metadata": {
    "collapsed": false,
    "ExecuteTime": {
     "end_time": "2023-11-28T14:42:34.206304400Z",
     "start_time": "2023-11-28T14:42:34.128174700Z"
    }
   },
   "id": "e1023a36d28dd66"
  },
  {
   "cell_type": "code",
   "execution_count": 62,
   "outputs": [
    {
     "data": {
      "text/plain": "True"
     },
     "execution_count": 62,
     "metadata": {},
     "output_type": "execute_result"
    }
   ],
   "source": [
    "kernel = cv2.getStructuringElement(cv2.MORPH_RECT, (3, 13))\n",
    "cv2.imwrite(\"temp/kernel.jpg\", kernel)"
   ],
   "metadata": {
    "collapsed": false,
    "ExecuteTime": {
     "end_time": "2023-11-28T14:42:34.409426700Z",
     "start_time": "2023-11-28T14:42:34.378175800Z"
    }
   },
   "id": "dcff1a55c8f19307"
  },
  {
   "cell_type": "code",
   "execution_count": 63,
   "outputs": [
    {
     "data": {
      "text/plain": "True"
     },
     "execution_count": 63,
     "metadata": {},
     "output_type": "execute_result"
    }
   ],
   "source": [
    "dilate = cv2.dilate(thresh, kernel, iterations=1)\n",
    "cv2.imwrite(\"temp/dilate.jpg\", dilate)"
   ],
   "metadata": {
    "collapsed": false,
    "ExecuteTime": {
     "end_time": "2023-11-28T14:42:34.711455500Z",
     "start_time": "2023-11-28T14:42:34.617699400Z"
    }
   },
   "id": "4fe3f1d2e0a2f48"
  },
  {
   "cell_type": "code",
   "execution_count": 64,
   "outputs": [],
   "source": [
    "contours = cv2.findContours(dilate, cv2.RETR_EXTERNAL, cv2.CHAIN_APPROX_SIMPLE)\n",
    "cnts = contours[0] if len(contours) == 2 else contours[1]\n",
    "cnts = sorted(cnts, key=lambda x: cv2.boundingRect(x)[0])"
   ],
   "metadata": {
    "collapsed": false,
    "ExecuteTime": {
     "end_time": "2023-11-28T14:42:34.945815100Z",
     "start_time": "2023-11-28T14:42:34.883316Z"
    }
   },
   "id": "62105020ffc34ff8"
  },
  {
   "cell_type": "code",
   "execution_count": 66,
   "outputs": [
    {
     "name": "stdout",
     "output_type": "stream",
     "text": [
      "A. v. E.\n",
      "\n",
      "Aaron 38, 20. 123, 18. 168, 6. 203, 38.\n",
      "\n",
      "Abacuc propheta 36,5. 319,29. 373, 23.\n",
      "bagarus rex Edessenorum 382, 13.\n",
      "\n",
      "Abdenago 585, 3.\n",
      "\n",
      "Abel 26, 11.\n",
      "bigail 606, 6.\n",
      "braham 26,18, 124,18. 133, 23. 239, 23.\n",
      "264. 302, 13. 303, 13. 320, 40. 328, 1.\n",
      "496, 22.\n",
      "\n",
      "Absalon 102, 5.\n",
      "\n",
      "Acgfredi v. Ecgfridus.\n",
      "\n",
      "Achab rex 504, 1.\n",
      "\n",
      "Achaz rex 504, 1.\n",
      "\n",
      "Achiel 606, 19.\n",
      "\n",
      "Achilon 496, 26.\n",
      "dal-, Adel-, Adhel-, Aedel-, Aedel-,\n",
      "Aedil-, Aedil- Edel-, Edil-, Athal-,\n",
      "Athel-, Athil-, Aethel-, Aethil-,\n",
      "Ethel-.\n",
      "edelbaldusabb.S. Petri Wiremuthen-\n",
      "sis et S. Pauli Girwensis 110, 28.\n",
      "edilberctus, Aedilberthus ep. Ha-\n",
      "gulstadensis, antea ep. Candidae\n",
      "casae sive Witernensis 27,43. 72,16.\n",
      "\n",
      "Adalbertus, Aedilberctus sive Magus,\n",
      "discipulus et capellanus Arnonis\n",
      "archiep. Salisburg., postea_abb.\n",
      "Ferrariensis 254, 1. 320, 41. 322, 19.\n",
      "416. 418, 14. 422, 10.\n",
      "dalpertabb.[Tegernseensis ?]497,23.\n",
      "\n",
      "Adalbertus presb. monasterii 8. Mar-\n",
      "tini Turonensis 399, 3.\n",
      "edilburga, Edilburga,cognom. Euge-\n",
      "nia, tbbatissa Hiacdanbyrqensie,\n",
      "filia Offae regis Merciorum 78, 1.\n",
      "148, 32. 149, 33 [2]7 458.\n",
      "\n",
      "Aethelfleda uxor Aethilredi regis\n",
      "Northanhumbrorum, filia Oftae\n",
      "regis Merciorum 149, 14. 150, 4.\n",
      "dalgavius ep. [Trecensis?] 510, 10.\n",
      "delgisa filia Arichis ducis Bene-\n",
      "ventani 506, 27.\n",
      "\n",
      "Adalgisus fil. Desiderii regis Lango-\n",
      "bardorum 503, 45.\n",
      "\n",
      "Epistozae IV.\n",
      "Aethelhardus, Aethilhardus, Athel-\n",
      "hardus, Athilhardus, Aedelhardus,\n",
      "Aedelhardus, Aedilhardus, Aedil-\n",
      "hardus, Ethelardus, Edelardus\n",
      "archiep. Cantuariensis Dorovernen-\n",
      "sis eselaaing metropolitanus 45, 9.\n",
      "49,9. 128,2. 145, 31, 147,5. 188. 189.\n",
      "192, 24. 193, 5[?]. 374376, 29. 377, 4.\n",
      "412. 414,1 (2) 448. 449 [2]. 450 [2],\n",
      "451, 8 [2]. 479. 480. 614, 10. 21. 36.\n",
      "\n",
      "Adalhardus, cognom. Antonius, abb.\n",
      "Corbeiae veteris, fil. Bernhardi\n",
      "rae Caroli Magni 34, 25. 290.\n",
      "\n",
      "1. 299. 300. 364. 365. 381. 382.\n",
      "509. 566,16; frater: Bernarius;\n",
      "fratres 381,25; soror: Gundrada.\n",
      "\n",
      "Adalmondus, Aethelmodus ep. Scire-\n",
      "burnensis 29, 9.\n",
      "\n",
      "Adelperga uxor Arichis ducis Bene-\n",
      "ventani, filia Desiderii regis Lango-\n",
      "bardorum 506, 5; liberi: Romual-\n",
      "dus, Grimoaldus, Adelgisa.\n",
      "\n",
      "Adalpert v, Adalbertus.\n",
      "\n",
      "Aedelredus, Aedilredus, Aethelredus,\n",
      "Aethilredus, Hedilredus rex Nor-\n",
      "thanhumbrorum, fil. Aedelwaldi\n",
      "Moll regis 383,15. 35,8. 41, 19.\n",
      "49,16. T1, 20, 146,2. 147,10. 150, 6.\n",
      "151, 35. 171,17. 377,31; mater:\n",
      "Aedilthyda; uxor: Aethelfleda;\n",
      "famulus: Torchmundus.\n",
      "\n",
      "Adhelricus diaconus, discipulus et!\n",
      "capellanus Arnonis archiep. Salis-\n",
      "burg., postea abbas Ferrariensis,\n",
      "archiepiscopus Senonensis, 418, 14.\n",
      "422, 10.\n",
      "edilthyda, Edilthruda uxor Aethel-\n",
      "waldi Moll regis Northanhumbro-\n",
      "rum, postea abbatissa 120,12. 151,17.\n",
      "152, 31 (hs filius: Aethelredus rex\n",
      "Northanhumbrorum.\n",
      "\n",
      "Edildryda uxor Ecgfridi regis Nor-\n",
      "thanhumbrorum, postea abbatissa\n",
      "(+ 679) 417,15.\n",
      "\n",
      "Aedelwaldus, Aethelwoldus Moll rex\n",
      "Northanhumbrorum 33,16; uxor:\n",
      "Aedilthyda; filius: Aethelredus,\n",
      "\n",
      "Adalwinus ep. Reginensis 421, 24.\n",
      "422, 21. 424,3.\n",
      "Aethiluuinus episcopus 28, 2.\n",
      "\n",
      "Adam 124. 201,1. 226,7. 264, 21,\n",
      "879, 29. 466, 36-—468, v5. 591, 34.\n",
      "Adam abb. monasterii Gemeticensis\n",
      "\n",
      "579.\n",
      "\n",
      "Adaula abbatissa Anglica 112, 4.\n",
      "\n",
      "Adoredus, Hathoredus ep. Hwiccio-\n",
      "rum [Wigorniensis] 29, 10.\n",
      "\n",
      "Adrianus v. Hadrianus.\n",
      "\n",
      "Adriaticum mare 324, 41.\n",
      "\n",
      "Aedel-, Aedil-, v. Adal-.\n",
      "\n",
      "Aegesippus [i. e. Hegesippus] 501, 11,\n",
      "\n",
      "Aegil v. Eigil.\n",
      "\n",
      "Aegyptus, Egyptus 123,19. 554, 17;\n",
      "Aegyptii, Aegyptiaci 231. 232, 17.\n",
      "467, 36. 567,6. 571,33; Egyptiacae\n",
      "divitiae 470, 22; Aegyptiacae tene-\n",
      "brae 232, 3; Acgypit rex: Pharao;\n",
      "Aegyptiacascola, Aegyptiaci pueri|\n",
      "v. Carolus I imperator.\n",
      "\n",
      "Aeine, Aesne, Esne ep. Herefordensis\n",
      "29, 6.\n",
      "\n",
      "Aelberhtus archiep. Eboracensis, ma-\n",
      "\n",
      "‘ister Alevini abbatis (162, 24]. 167,8.\n",
      "171,19]. [177, 5]. [224,20]. [239, 28].\n",
      "332, 28]. [377,32]. (378, 31]. [429,27].\n",
      "\n",
      "Aelfvaldus, Aelfwaldus rex Nor-\n",
      "thanhymbrorum, [Transhymbranae\n",
      "gentis| 20, 27. 28, 11. 43, 8. 377, 31.\n",
      "\n",
      "Aelim v. Alim.\n",
      "\n",
      "Aeneades 39, 21; v. Virgilius.\n",
      "\n",
      "Aesculapius, Scolapius 397, 25.\n",
      "\n",
      "Aesne v. Aeine.\n",
      "\n",
      "Aethel-, Aethil- v. Adal-.\n",
      "\n",
      "Aethiopia 478, 5.\n",
      "\n",
      "Africa 124,16; Afer: Melchiades’\n",
      "papa; Africanum concilium 526,33.\n",
      "\n",
      "Africanus, sc. Scipio Afr. 575, 36.\n",
      "\n",
      "Agar 584, 38.\n",
      "gareni, Aggareni 32, 19. 601, 21;\n",
      "v, Saraceni.\n",
      "gathensis synodus 396,\n",
      "\n",
      "Aqinus ep. Constantiensis 117, 32.\n",
      "\n",
      "129, 19.\n"
     ]
    },
    {
     "data": {
      "text/plain": "True"
     },
     "execution_count": 66,
     "metadata": {},
     "output_type": "execute_result"
    }
   ],
   "source": [
    "for c in cnts:\n",
    "    x, y, w, h = cv2.boundingRect(c)\n",
    "    if h > 200 and w > 20:\n",
    "        roi  = image[y:y+h, x:x+w]\n",
    "        cv2.imwrite(\"temp/roi.jpg\", roi)\n",
    "        cv2.rectangle(image, (x, y), (x + w, y + h), (36, 255, 12), 2)\n",
    "        ocr_result = pytesseract.image_to_string(roi, lang='eng', config='--psm 6')\n",
    "        ocr_result = ocr_result.split(\"\\n\")\n",
    "        for line in ocr_result:\n",
    "            line = line.strip()\n",
    "            print(line)\n",
    "cv2.imwrite(\"temp/contours.jpg\", image)"
   ],
   "metadata": {
    "collapsed": false,
    "ExecuteTime": {
     "end_time": "2023-11-28T14:44:04.153688400Z",
     "start_time": "2023-11-28T14:43:50.890992200Z"
    }
   },
   "id": "3ba2ef951ab2e4f4"
  },
  {
   "cell_type": "code",
   "execution_count": 53,
   "outputs": [],
   "source": [],
   "metadata": {
    "collapsed": false,
    "ExecuteTime": {
     "end_time": "2023-11-28T14:23:20.669818800Z",
     "start_time": "2023-11-28T14:23:20.645815600Z"
    }
   },
   "id": "7d1d42db877c0820"
  }
 ],
 "metadata": {
  "kernelspec": {
   "display_name": "Python 3 (ipykernel)",
   "language": "python",
   "name": "python3"
  },
  "language_info": {
   "codemirror_mode": {
    "name": "ipython",
    "version": 3
   },
   "file_extension": ".py",
   "mimetype": "text/x-python",
   "name": "python",
   "nbconvert_exporter": "python",
   "pygments_lexer": "ipython3",
   "version": "3.11.5"
  }
 },
 "nbformat": 4,
 "nbformat_minor": 5
}
